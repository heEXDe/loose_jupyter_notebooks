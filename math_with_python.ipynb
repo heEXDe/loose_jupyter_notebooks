{
 "cells": [
  {
   "cell_type": "markdown",
   "id": "50705199",
   "metadata": {},
   "source": [
    "# Math with Python"
   ]
  },
  {
   "cell_type": "markdown",
   "id": "1fa91442",
   "metadata": {},
   "source": [
    "Needed modules"
   ]
  },
  {
   "cell_type": "code",
   "execution_count": 1,
   "id": "a42bb105",
   "metadata": {},
   "outputs": [],
   "source": [
    "import math\n",
    "import numpy\n",
    "import matplotlib"
   ]
  },
  {
   "cell_type": "markdown",
   "id": "bc79028a",
   "metadata": {},
   "source": [
    "## 'math' module"
   ]
  },
  {
   "cell_type": "code",
   "execution_count": 12,
   "id": "8e8e8378",
   "metadata": {},
   "outputs": [
    {
     "name": "stdout",
     "output_type": "stream",
     "text": [
      "sum: 7\n",
      "subtraction: 3\n",
      "multiplication: 10\n",
      "division: 2.5\n",
      "exponentiation: 25.0\n",
      "n-th root (square root): 2.23606797749979\n",
      "logarithm: 4.0\n",
      "pi: 3.141592653589793\n",
      "circumference of a circle: 31.41592653589793\n",
      "area of a circle: 78.53981633974483\n",
      "the greatest common divisor: 27\n",
      "remainder: 1.0\n",
      "sine (angle in radians): 0.49999999999999994 and in degrees: 0.49999999999999994\n",
      "cos (angle in radians): 0.8660254037844387 and in degrees: 0.8660254037844387\n"
     ]
    }
   ],
   "source": [
    "# sum\n",
    "print('sum: ' + str(5 + 2))\n",
    "# subraction\n",
    "print('subtraction: ' + str(5 - 2))\n",
    "# multiplication\n",
    "print('multiplication: ' + str(5 * 2))\n",
    "# division\n",
    "print('division: ' + str(5 / 2))\n",
    "# exponentiation\n",
    "print('exponentiation: ' + str(math.pow(5, 2)))\n",
    "# n-th root\n",
    "print('n-th root (square root): ' + str(math.pow(5, 1/2)))\n",
    "# logarithm\n",
    "print('logarithm: ' + str(math.log(16, 2)))\n",
    "# Pi\n",
    "print('pi: ' + str(math.pi))\n",
    "# circumference\n",
    "print('circumference of a circle: ' + str(2 * math.pi * 5))\n",
    "# area of a circle\n",
    "print('area of a circle: ' + str(math.pi * math.pow(5, 2)))\n",
    "# the greatest common divisor\n",
    "print('the greatest common divisor: ' + str(math.gcd(81, 27)))\n",
    "# remainder\n",
    "print('remainder: ' + str(math.remainder(5, 2)))\n",
    "# sine - angle in radians\n",
    "print(f'sine (angle in radians): {math.sin(math.pi / 6)} and in degrees: {math.sin(math.radians(30))}')\n",
    "# cosine - angle in radians\n",
    "print(f'cos (angle in radians): {math.cos(math.pi / 6)} and in degrees: {math.cos(math.radians(30))}')"
   ]
  },
  {
   "cell_type": "code",
   "execution_count": null,
   "id": "6485e135",
   "metadata": {},
   "outputs": [],
   "source": []
  }
 ],
 "metadata": {
  "kernelspec": {
   "display_name": "Python 3",
   "language": "python",
   "name": "python3"
  },
  "language_info": {
   "codemirror_mode": {
    "name": "ipython",
    "version": 3
   },
   "file_extension": ".py",
   "mimetype": "text/x-python",
   "name": "python",
   "nbconvert_exporter": "python",
   "pygments_lexer": "ipython3",
   "version": "3.8.10"
  }
 },
 "nbformat": 4,
 "nbformat_minor": 5
}
