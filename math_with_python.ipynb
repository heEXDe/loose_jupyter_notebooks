{
 "cells": [
  {
   "cell_type": "markdown",
   "id": "50705199",
   "metadata": {},
   "source": [
    "# Math with Python"
   ]
  },
  {
   "cell_type": "markdown",
   "id": "1fa91442",
   "metadata": {},
   "source": [
    "Needed modules"
   ]
  },
  {
   "cell_type": "code",
   "execution_count": 25,
   "id": "a42bb105",
   "metadata": {},
   "outputs": [],
   "source": [
    "import math\n",
    "import numpy as np\n",
    "import matplotlib"
   ]
  },
  {
   "cell_type": "markdown",
   "id": "bc79028a",
   "metadata": {},
   "source": [
    "## 'math' module"
   ]
  },
  {
   "cell_type": "code",
   "execution_count": 26,
   "id": "8e8e8378",
   "metadata": {},
   "outputs": [
    {
     "name": "stdout",
     "output_type": "stream",
     "text": [
      "sum: 7\n",
      "subtraction: 3\n",
      "multiplication: 10\n",
      "division: 2.5\n",
      "exponentiation (5 to power of 2): 25.0\n",
      "natural exponent (e to power of 2): 7.38905609893065\n",
      "n-th root (square root): 2.23606797749979\n",
      "logarithm: 4.0\n",
      "pi: 3.141592653589793\n",
      "circumference of a circle: 31.41592653589793\n",
      "area of a circle: 78.53981633974483\n",
      "the greatest common divisor: 27\n",
      "remainder: 1.0\n",
      "sine (angle in radians): 0.49999999999999994 and in degrees: 0.49999999999999994\n",
      "cos (angle in radians): 0.8660254037844387 and in degrees: 0.8660254037844387\n",
      "radians to degrees: 45.0\n",
      "Euler's number: 2.718281828459045\n",
      "positive infinity: inf\n",
      "not a number: nan\n",
      "factorial of 5 (5!): 120\n",
      "ceiling value of 4.23 : 5\n",
      "floor value of 4.23 : 4\n",
      "droop decimal value (4.23) : 4\n",
      "are two values close to (relatively) each other: False, and (absolutely): True\n",
      "Greatest Common Divisor : 5\n",
      "sum of many items: 15.0\n"
     ]
    }
   ],
   "source": [
    "# sum\n",
    "print('sum: ' + str(5 + 2))\n",
    "# subraction\n",
    "print('subtraction: ' + str(5 - 2))\n",
    "# multiplication\n",
    "print('multiplication: ' + str(5 * 2))\n",
    "# division\n",
    "print('division: ' + str(5 / 2))\n",
    "# exponentiation\n",
    "print('exponentiation (5 to power of 2): ' + str(math.pow(5, 2)))\n",
    "# natural exponent\n",
    "print('natural exponent (e to power of 2): ' + str(math.exp(2)))\n",
    "# n-th root\n",
    "print('n-th root (square root): ' + str(math.pow(5, 1/2)))\n",
    "# logarithm\n",
    "print('logarithm: ' + str(math.log(16, 2)))\n",
    "# Pi\n",
    "print('pi: ' + str(math.pi))\n",
    "# circumference\n",
    "print('circumference of a circle: ' + str(2 * math.pi * 5))\n",
    "# area of a circle\n",
    "print('area of a circle: ' + str(math.pi * math.pow(5, 2)))\n",
    "# the greatest common divisor\n",
    "print('the greatest common divisor: ' + str(math.gcd(81, 27)))\n",
    "# remainder\n",
    "print('remainder: ' + str(math.remainder(5, 2)))\n",
    "# sine - angle in radians\n",
    "print(f'sine (angle in radians): {math.sin(math.pi / 6)} and in degrees: {math.sin(math.radians(30))}')\n",
    "# cosine - angle in radians\n",
    "print(f'cos (angle in radians): {math.cos(math.pi / 6)} and in degrees: {math.cos(math.radians(30))}')\n",
    "# radians to degrees\n",
    "print(f\"radians to degrees: {math.degrees(math.pi / 4)}\")\n",
    "# Euler's number\n",
    "print(f\"Euler's number: {math.e}\")\n",
    "# infinity (+)\n",
    "print(f\"positive infinity: {math.inf}\")\n",
    "# not a number at all\n",
    "print(f\"not a number: {math.nan}\")\n",
    "# factorial\n",
    "print(f\"factorial of 5 (5!): {math.factorial(5)}\")\n",
    "# ceiling value\n",
    "print(f\"ceiling value of 4.23 : {math.ceil(4.23)}\")\n",
    "# floor value\n",
    "print(f\"floor value of 4.23 : {math.floor(4.23)}\")\n",
    "# droop decimal value\n",
    "print(f\"droop decimal value (4.23) : {math.trunc(4.23)}\")\n",
    "# how close two values are to each other - within a relative value\n",
    "print(f\"are two values close to (relatively) each other: {math.isclose(4, 6, rel_tol=0.1)}, and (absolutely): {math.isclose(4, 6, abs_tol=3)}\")\n",
    "# Greatest Common Divisor\n",
    "print(f\"Greatest Common Divisor : {math.gcd(125, 15)}\")\n",
    "# sum of many items\n",
    "print(f'sum of many items: {math.fsum([1, 2, 3, 4, 5])}')"
   ]
  },
  {
   "cell_type": "markdown",
   "id": "3ca96b5f",
   "metadata": {},
   "source": [
    "For operations on imaginary numbers one can use cmath module - provided for operations on complex numbers.\n",
    "complex numbers = a + bi, where a = real number, bi = imaginary number"
   ]
  },
  {
   "cell_type": "code",
   "execution_count": 27,
   "id": "ba789f90",
   "metadata": {},
   "outputs": [],
   "source": [
    "import cmath"
   ]
  },
  {
   "cell_type": "markdown",
   "id": "fef863c8",
   "metadata": {},
   "source": [
    "## 'Matplotlib' library"
   ]
  },
  {
   "cell_type": "code",
   "execution_count": 36,
   "id": "b13314a0",
   "metadata": {},
   "outputs": [
    {
     "name": "stdout",
     "output_type": "stream",
     "text": [
      "3.3.4\n"
     ]
    }
   ],
   "source": [
    "import matplotlib.pyplot as plt\n",
    "%matplotlib inline\n",
    "# version check\n",
    "print(matplotlib.__version__)"
   ]
  },
  {
   "cell_type": "code",
   "execution_count": 29,
   "id": "fbcd2221",
   "metadata": {
    "scrolled": true
   },
   "outputs": [
    {
     "data": {
      "text/plain": [
       "[<matplotlib.lines.Line2D at 0x7fd0f66380d0>]"
      ]
     },
     "execution_count": 29,
     "metadata": {},
     "output_type": "execute_result"
    },
    {
     "data": {
      "image/png": "[encoded data removed]",
      "text/plain": [
       "<Figure size 432x288 with 1 Axes>"
      ]
     },
     "metadata": {
      "needs_background": "light"
     },
     "output_type": "display_data"
    }
   ],
   "source": [
    "# Line plot using dotts\n",
    "x = [1, 2, 3, 4, 5]\n",
    "y = [2, 4, 6, 8, 12] \n",
    "plt.plot(x, y)\n",
    "# plt.show()"
   ]
  },
  {
   "cell_type": "code",
   "execution_count": 30,
   "id": "5127d640",
   "metadata": {
    "scrolled": true
   },
   "outputs": [
    {
     "data": {
      "text/plain": [
       "<BarContainer object of 5 artists>"
      ]
     },
     "execution_count": 30,
     "metadata": {},
     "output_type": "execute_result"
    },
    {
     "data": {
      "image/png": "[encoded data removed]",
      "text/plain": [
       "<Figure size 432x288 with 1 Axes>"
      ]
     },
     "metadata": {
      "needs_background": "light"
     },
     "output_type": "display_data"
    }
   ],
   "source": [
    "# Bar plot\n",
    "x = [1, 2, 3, 4, 5]\n",
    "y = [2, 4, 6, 8, 12] \n",
    "plt.bar(x, y) "
   ]
  },
  {
   "cell_type": "code",
   "execution_count": 31,
   "id": "5a615d22",
   "metadata": {
    "scrolled": false
   },
   "outputs": [
    {
     "data": {
      "text/plain": [
       "<matplotlib.collections.PathCollection at 0x7fd0f6569ca0>"
      ]
     },
     "execution_count": 31,
     "metadata": {},
     "output_type": "execute_result"
    },
    {
     "data": {
      "image/png": "[encoded data removed]",
      "text/plain": [
       "<Figure size 432x288 with 1 Axes>"
      ]
     },
     "metadata": {
      "needs_background": "light"
     },
     "output_type": "display_data"
    }
   ],
   "source": [
    "# Bar plot\n",
    "x = [1, 2, 3, 4, 5]\n",
    "y = [2, 4, 6, 8, 12] \n",
    "plt.scatter(x, y)"
   ]
  },
  {
   "cell_type": "code",
   "execution_count": 32,
   "id": "34a9b78e",
   "metadata": {},
   "outputs": [
    {
     "data": {
      "text/plain": [
       "([<matplotlib.patches.Wedge at 0x7fd0f6544ee0>,\n",
       "  <matplotlib.patches.Wedge at 0x7fd0f64d33a0>,\n",
       "  <matplotlib.patches.Wedge at 0x7fd0f64d3820>,\n",
       "  <matplotlib.patches.Wedge at 0x7fd0f64d3ca0>,\n",
       "  <matplotlib.patches.Wedge at 0x7fd0f64d3fa0>],\n",
       " [Text(1.0788638084435536, 0.2145993542177411, '2'),\n",
       "  Text(0.7778174593052024, 0.7778174593052023, '4'),\n",
       "  Text(-0.21459935421774104, 1.0788638084435536, '6'),\n",
       "  Text(-1.1, 1.3471114790620887e-16, '8'),\n",
       "  Text(0.420951775601599, -1.0162674857624154, '12')])"
      ]
     },
     "execution_count": 32,
     "metadata": {},
     "output_type": "execute_result"
    },
    {
     "data": {
      "image/png": "[encoded data removed]",
      "text/plain": [
       "<Figure size 432x288 with 1 Axes>"
      ]
     },
     "metadata": {},
     "output_type": "display_data"
    }
   ],
   "source": [
    "# Pie chart\n",
    "y = [2, 4, 6, 8, 12] \n",
    "labes = [\"2\", \"4\", \"6\", \"8\", \"12\"]\n",
    "plt.pie(y, labels=labes)"
   ]
  },
  {
   "cell_type": "code",
   "execution_count": 33,
   "id": "fbb77537",
   "metadata": {
    "scrolled": true
   },
   "outputs": [
    {
     "data": {
      "text/plain": [
       "Text(0, 0.5, 'y')"
      ]
     },
     "execution_count": 33,
     "metadata": {},
     "output_type": "execute_result"
    },
    {
     "data": {
      "image/png": "[encoded data removed]",
      "text/plain": [
       "<Figure size 432x288 with 1 Axes>"
      ]
     },
     "metadata": {
      "needs_background": "light"
     },
     "output_type": "display_data"
    }
   ],
   "source": [
    "x = [1, 2, 3, 4, 5]\n",
    "y = [2, 4, 6, 8, 12] \n",
    "plt.plot(x, y)\n",
    "# scaling axes\n",
    "plt.axis([2, 6, 0, 11])\n",
    "# adding the title and labeling axies\n",
    "plt.title(\"My title\")\n",
    "plt.xlabel(\"x\")\n",
    "plt.ylabel(\"y\")"
   ]
  },
  {
   "cell_type": "code",
   "execution_count": 34,
   "id": "9996f96e",
   "metadata": {
    "scrolled": true
   },
   "outputs": [
    {
     "data": {
      "text/plain": [
       "<matplotlib.legend.Legend at 0x7fd0f646c6d0>"
      ]
     },
     "execution_count": 34,
     "metadata": {},
     "output_type": "execute_result"
    },
    {
     "data": {
      "image/png": "[encoded data removed]",
      "text/plain": [
       "<Figure size 432x288 with 1 Axes>"
      ]
     },
     "metadata": {
      "needs_background": "light"
     },
     "output_type": "display_data"
    }
   ],
   "source": [
    "x = [1, 2, 3, 4, 5]\n",
    "y1 = [2, 4, 6, 8, 12] \n",
    "y2 = [10, 8, 6, 5, 1]\n",
    "y3 = [5, 6, 6, 4, 7]\n",
    "# two lines with different colors\n",
    "plt.plot(x, y1, color = 'orange', label ='y1')\n",
    "plt.plot(x, y2, color = 'green', label ='y2')\n",
    "# one line 'dashed'\n",
    "plt.plot(x, y3, color = 'red', linestyle ='dashed', label ='y3')\n",
    "plt.title(\"My title\")\n",
    "plt.xlabel(\"x\")\n",
    "plt.ylabel(\"y\")\n",
    "plt.legend()"
   ]
  },
  {
   "cell_type": "code",
   "execution_count": 35,
   "id": "5f9745ab",
   "metadata": {},
   "outputs": [
    {
     "data": {
      "text/plain": [
       "Text(0.5, 1.0, 'Trigonometric Functions')"
      ]
     },
     "execution_count": 35,
     "metadata": {},
     "output_type": "execute_result"
    },
    {
     "data": {
      "image/png": "[encoded data removed]",
      "text/plain": [
       "<Figure size 432x288 with 1 Axes>"
      ]
     },
     "metadata": {
      "needs_background": "light"
     },
     "output_type": "display_data"
    }
   ],
   "source": [
    "x = np.linspace(-np.pi, np.pi, 15)\n",
    "c = np.cos(x)\n",
    "s = np.sin(x)\n",
    "ax = plt.axes([0.1, 0.1, 0.8, 0.8]) \n",
    "ax1 = ax.plot(x, c, 'bs:')\n",
    "# 'b'=blue color, 's'=square marker\n",
    "ax2 = ax.plot(x, s, 'ro-') \n",
    "ax.legend(labels = ('cos','sin'),loc = 'upper left')\n",
    "ax.set_title(\"Trigonometric Functions\")  "
   ]
  }
 ],
 "metadata": {
  "kernelspec": {
   "display_name": "Python 3",
   "language": "python",
   "name": "python3"
  },
  "language_info": {
   "codemirror_mode": {
    "name": "ipython",
    "version": 3
   },
   "file_extension": ".py",
   "mimetype": "text/x-python",
   "name": "python",
   "nbconvert_exporter": "python",
   "pygments_lexer": "ipython3",
   "version": "3.8.10"
  }
 },
 "nbformat": 4,
 "nbformat_minor": 5
}
