{
 "cells": [
  {
   "cell_type": "markdown",
   "id": "50705199",
   "metadata": {},
   "source": [
    "# Math with Python"
   ]
  },
  {
   "cell_type": "markdown",
   "id": "1fa91442",
   "metadata": {},
   "source": [
    "Needed modules"
   ]
  },
  {
   "cell_type": "code",
   "execution_count": 1,
   "id": "a42bb105",
   "metadata": {},
   "outputs": [],
   "source": [
    "import math\n",
    "import numpy\n",
    "import matplotlib"
   ]
  },
  {
   "cell_type": "markdown",
   "id": "bc79028a",
   "metadata": {},
   "source": [
    "## 'math' module"
   ]
  },
  {
   "cell_type": "code",
   "execution_count": 4,
   "id": "8e8e8378",
   "metadata": {},
   "outputs": [
    {
     "name": "stdout",
     "output_type": "stream",
     "text": [
      "sum: 7\n",
      "subtraction: 3\n",
      "multiplication: 10\n",
      "division: 2.5\n",
      "exponentiation (5 to power of 2): 25.0\n",
      "natural exponent (e to power of 2): 7.38905609893065\n",
      "n-th root (square root): 2.23606797749979\n",
      "logarithm: 4.0\n",
      "pi: 3.141592653589793\n",
      "circumference of a circle: 31.41592653589793\n",
      "area of a circle: 78.53981633974483\n",
      "the greatest common divisor: 27\n",
      "remainder: 1.0\n",
      "sine (angle in radians): 0.49999999999999994 and in degrees: 0.49999999999999994\n",
      "cos (angle in radians): 0.8660254037844387 and in degrees: 0.8660254037844387\n",
      "radians to degrees: 45.0\n",
      "Euler's number: 2.718281828459045\n",
      "positive infinity: inf\n",
      "not a number: nan\n",
      "factorial of 5 (5!): 120\n",
      "ceiling value of 4.23 : 5\n",
      "floor value of 4.23 : 4\n",
      "droop decimal value (4.23) : 4\n",
      "are two values close to (relatively) each other: False, and (absolutely): True\n",
      "Greatest Common Divisor : 5\n",
      "sum of many items: 15.0\n"
     ]
    }
   ],
   "source": [
    "# sum\n",
    "print('sum: ' + str(5 + 2))\n",
    "# subraction\n",
    "print('subtraction: ' + str(5 - 2))\n",
    "# multiplication\n",
    "print('multiplication: ' + str(5 * 2))\n",
    "# division\n",
    "print('division: ' + str(5 / 2))\n",
    "# exponentiation\n",
    "print('exponentiation (5 to power of 2): ' + str(math.pow(5, 2)))\n",
    "# natural exponent\n",
    "print('natural exponent (e to power of 2): ' + str(math.exp(2)))\n",
    "# n-th root\n",
    "print('n-th root (square root): ' + str(math.pow(5, 1/2)))\n",
    "# logarithm\n",
    "print('logarithm: ' + str(math.log(16, 2)))\n",
    "# Pi\n",
    "print('pi: ' + str(math.pi))\n",
    "# circumference\n",
    "print('circumference of a circle: ' + str(2 * math.pi * 5))\n",
    "# area of a circle\n",
    "print('area of a circle: ' + str(math.pi * math.pow(5, 2)))\n",
    "# the greatest common divisor\n",
    "print('the greatest common divisor: ' + str(math.gcd(81, 27)))\n",
    "# remainder\n",
    "print('remainder: ' + str(math.remainder(5, 2)))\n",
    "# sine - angle in radians\n",
    "print(f'sine (angle in radians): {math.sin(math.pi / 6)} and in degrees: {math.sin(math.radians(30))}')\n",
    "# cosine - angle in radians\n",
    "print(f'cos (angle in radians): {math.cos(math.pi / 6)} and in degrees: {math.cos(math.radians(30))}')\n",
    "# radians to degrees\n",
    "print(f\"radians to degrees: {math.degrees(math.pi / 4)}\")\n",
    "# Euler's number\n",
    "print(f\"Euler's number: {math.e}\")\n",
    "# infinity (+)\n",
    "print(f\"positive infinity: {math.inf}\")\n",
    "# not a number at all\n",
    "print(f\"not a number: {math.nan}\")\n",
    "# factorial\n",
    "print(f\"factorial of 5 (5!): {math.factorial(5)}\")\n",
    "# ceiling value\n",
    "print(f\"ceiling value of 4.23 : {math.ceil(4.23)}\")\n",
    "# floor value\n",
    "print(f\"floor value of 4.23 : {math.floor(4.23)}\")\n",
    "# droop decimal value\n",
    "print(f\"droop decimal value (4.23) : {math.trunc(4.23)}\")\n",
    "# how close two values are to each other - within a relative value\n",
    "print(f\"are two values close to (relatively) each other: {math.isclose(4, 6, rel_tol=0.1)}, and (absolutely): {math.isclose(4, 6, abs_tol=3)}\")\n",
    "# Greatest Common Divisor\n",
    "print(f\"Greatest Common Divisor : {math.gcd(125, 15)}\")\n",
    "# sum of many items\n",
    "print(f'sum of many items: {math.fsum([1, 2, 3, 4, 5])}')"
   ]
  },
  {
   "cell_type": "markdown",
   "id": "3ca96b5f",
   "metadata": {},
   "source": [
    "For operations on imaginary numbers one can use cmath module - provided for operations on complex numbers.\n",
    "complex numbers = a + bi, where a = real number, bi = imaginary number"
   ]
  },
  {
   "cell_type": "code",
   "execution_count": 5,
   "id": "ba789f90",
   "metadata": {},
   "outputs": [],
   "source": [
    "import cmath"
   ]
  },
  {
   "cell_type": "code",
   "execution_count": null,
   "id": "955ca573",
   "metadata": {},
   "outputs": [],
   "source": []
  }
 ],
 "metadata": {
  "kernelspec": {
   "display_name": "Python 3",
   "language": "python",
   "name": "python3"
  },
  "language_info": {
   "codemirror_mode": {
    "name": "ipython",
    "version": 3
   },
   "file_extension": ".py",
   "mimetype": "text/x-python",
   "name": "python",
   "nbconvert_exporter": "python",
   "pygments_lexer": "ipython3",
   "version": "3.8.10"
  }
 },
 "nbformat": 4,
 "nbformat_minor": 5
}
