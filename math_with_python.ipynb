{
 "cells": [
  {
   "cell_type": "markdown",
   "id": "50705199",
   "metadata": {},
   "source": [
    "# Math with Python"
   ]
  },
  {
   "cell_type": "markdown",
   "id": "1fa91442",
   "metadata": {},
   "source": [
    "Needed modules"
   ]
  },
  {
   "cell_type": "code",
   "execution_count": 3,
   "id": "a42bb105",
   "metadata": {},
   "outputs": [],
   "source": [
    "import math\n",
    "import numpy"
   ]
  },
  {
   "cell_type": "markdown",
   "id": "bc79028a",
   "metadata": {},
   "source": [
    "## 'math' module"
   ]
  },
  {
   "cell_type": "code",
   "execution_count": 8,
   "id": "8e8e8378",
   "metadata": {},
   "outputs": [
    {
     "name": "stdout",
     "output_type": "stream",
     "text": [
      "pi: 3.141592653589793\n",
      "circumference: 31.41592653589793\n",
      "area of a circle: 78.53981633974483\n"
     ]
    }
   ],
   "source": [
    "# Pi\n",
    "print('pi: ' + str(math.pi))\n",
    "# circumference\n",
    "print('circumference: ' + str(2 * math.pi * 5))\n",
    "# area of a circle\n",
    "print('area of a circle: ' + str(math.pi * math.pow(5, 2)))"
   ]
  },
  {
   "cell_type": "code",
   "execution_count": null,
   "id": "6485e135",
   "metadata": {},
   "outputs": [],
   "source": []
  }
 ],
 "metadata": {
  "kernelspec": {
   "display_name": "Python 3",
   "language": "python",
   "name": "python3"
  },
  "language_info": {
   "codemirror_mode": {
    "name": "ipython",
    "version": 3
   },
   "file_extension": ".py",
   "mimetype": "text/x-python",
   "name": "python",
   "nbconvert_exporter": "python",
   "pygments_lexer": "ipython3",
   "version": "3.8.10"
  }
 },
 "nbformat": 4,
 "nbformat_minor": 5
}
